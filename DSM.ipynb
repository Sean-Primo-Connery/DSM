{
 "cells": [
  {
   "cell_type": "code",
   "execution_count": 17,
   "metadata": {
    "collapsed": true,
    "pycharm": {
     "name": "#%%\n"
    }
   },
   "outputs": [],
   "source": [
    "import pandas as pd\n",
    "import numpy as np\n",
    "from sklearn.cluster import SpectralClustering\n",
    "from communities.algorithms import louvain_method, girvan_newman"
   ]
  },
  {
   "cell_type": "markdown",
   "source": [
    "## 相似度矩阵读取"
   ],
   "metadata": {
    "collapsed": false,
    "pycharm": {
     "name": "#%% md\n"
    }
   }
  },
  {
   "cell_type": "code",
   "execution_count": 18,
   "outputs": [],
   "source": [
    "adj = pd.read_excel(\"软件/DSM1.xlsx\", header=None)\n",
    "adj_matrix = adj.values\n",
    "# adj_matrix = ad = [[1,1,0,0,0], [1,1,1,1,0], [0,1,1,0,0], [0,1,0,1,1],[0,0,0,1,1]]"
   ],
   "metadata": {
    "collapsed": false,
    "pycharm": {
     "name": "#%%\n"
    }
   }
  },
  {
   "cell_type": "markdown",
   "source": [
    "## 规范化拉普拉斯矩阵"
   ],
   "metadata": {
    "collapsed": false,
    "pycharm": {
     "name": "#%% md\n"
    }
   }
  },
  {
   "cell_type": "code",
   "execution_count": 19,
   "outputs": [
    {
     "name": "stdout",
     "output_type": "stream",
     "text": [
      "[[ 0.58847737 -0.28242447 -0.05016077 -0.06317389 -0.03381003  0.\n",
      "   0.          0.         -0.05036649 -0.01763002 -0.01966645]\n",
      " [-0.28242447  0.66442953 -0.04529593 -0.20805369 -0.03053097 -0.03295434\n",
      "   0.          0.         -0.0454817  -0.01592018 -0.0177591 ]\n",
      " [-0.05016077 -0.04529593  0.72826087 -0.22345994 -0.24726768 -0.14530914\n",
      "   0.          0.         -0.04092804 -0.01432624 -0.01598105]\n",
      " [-0.06317389 -0.20805369 -0.22345994  0.66442953  0.          0.\n",
      "   0.          0.         -0.0454817  -0.04776053 -0.05327731]\n",
      " [-0.03381003 -0.03053097 -0.24726768  0.          0.72222222 -0.23686266\n",
      "  -0.15469849 -0.0205777  -0.02758686  0.          0.        ]\n",
      " [ 0.         -0.03295434 -0.14530914  0.         -0.23686266  0.6763754\n",
      "  -0.16697755 -0.02221104 -0.02977655  0.          0.        ]\n",
      " [ 0.          0.          0.          0.         -0.15469849 -0.16697755\n",
      "   0.72527473 -0.22101469 -0.13443085 -0.14116642  0.        ]\n",
      " [ 0.          0.          0.          0.         -0.0205777  -0.02221104\n",
      "  -0.22101469  0.3902439   0.          0.          0.        ]\n",
      " [-0.05036649 -0.0454817  -0.04092804 -0.0454817  -0.02758686 -0.02977655\n",
      "  -0.13443085  0.          0.7260274  -0.21865185 -0.19255908]\n",
      " [-0.01763002 -0.01592018 -0.01432624 -0.04776053  0.          0.\n",
      "  -0.14116642  0.         -0.21865185  0.6978852  -0.25612901]\n",
      " [-0.01966645 -0.0177591  -0.01598105 -0.05327731  0.          0.\n",
      "   0.          0.         -0.19255908 -0.25612901  0.62406015]]\n"
     ]
    }
   ],
   "source": [
    "d = np.sum(adj_matrix, axis=1).tolist()\n",
    "d = [i**(-0.5) for i in d]\n",
    "d_ = np.diag(d)\n",
    "an = len(adj_matrix)\n",
    "adj_mat_lap = np.eye(an) - np.matmul(np.matmul(d_,adj_matrix), d_)\n",
    "print(adj_mat_lap)"
   ],
   "metadata": {
    "collapsed": false,
    "pycharm": {
     "name": "#%%\n"
    }
   }
  },
  {
   "cell_type": "markdown",
   "source": [
    "## 本证间隙法求最优聚类数"
   ],
   "metadata": {
    "collapsed": false,
    "pycharm": {
     "name": "#%% md\n"
    }
   }
  },
  {
   "cell_type": "code",
   "execution_count": 20,
   "outputs": [],
   "source": [
    "mat, _ = np.linalg.eig(adj_mat_lap)\n",
    "mat = sorted(mat, reverse=True)"
   ],
   "metadata": {
    "collapsed": false,
    "pycharm": {
     "name": "#%%\n"
    }
   }
  },
  {
   "cell_type": "code",
   "execution_count": 21,
   "outputs": [
    {
     "name": "stdout",
     "output_type": "stream",
     "text": [
      "[0.1002415567717807, 0.03779555439898996, 0.031432912916876665, 0.06950615762017998, 0.06672017020741683, 0.17611000336445104, 0.21426401251349358, 0.12053256283485964, 0.046792454710210735, 0.23840287060104728]\n",
      "4\n"
     ]
    }
   ],
   "source": [
    "g = [mat[i] - mat[i+1] for i in range(len(mat)-1)]\n",
    "print(g)\n",
    "k = 0\n",
    "for i in range(1, len(g)-1):\n",
    "    if g[i]>g[i-1] and g[i]>g[i+1]:\n",
    "        k=i+1\n",
    "        print(k)\n",
    "        break"
   ],
   "metadata": {
    "collapsed": false,
    "pycharm": {
     "name": "#%%\n"
    }
   }
  },
  {
   "cell_type": "markdown",
   "source": [
    "## 谱聚类求解"
   ],
   "metadata": {
    "collapsed": false,
    "pycharm": {
     "name": "#%% md\n"
    }
   }
  },
  {
   "cell_type": "code",
   "execution_count": 22,
   "outputs": [
    {
     "name": "stdout",
     "output_type": "stream",
     "text": [
      "spectral clustering\n",
      "[2 2 3 2 3 3 1 1 0 0 0]\n"
     ]
    }
   ],
   "source": [
    "sc = SpectralClustering(k, affinity='precomputed')\n",
    "sc.fit(adj_matrix)\n",
    "print('spectral clustering')\n",
    "print(sc.labels_)"
   ],
   "metadata": {
    "collapsed": false,
    "pycharm": {
     "name": "#%%\n"
    }
   }
  },
  {
   "cell_type": "code",
   "execution_count": 23,
   "outputs": [],
   "source": [
    "def get_q(adj_m, c_, c_d):\n",
    "    in_ = 0\n",
    "    tot_ = 0\n",
    "    in_list = []\n",
    "    tot_list = []\n",
    "    for i in c_d.keys():\n",
    "        if i == c_:\n",
    "            in_list.extend(c_d[i])\n",
    "        tot_list.extend(c_d[i])\n",
    "    for i in in_list:\n",
    "        for z in in_list:\n",
    "                in_ += adj_m[i][z]\n",
    "    for i in in_list:\n",
    "        for z in tot_list:\n",
    "            tot_ += adj_m[i][z]\n",
    "    return in_, tot_\n"
   ],
   "metadata": {
    "collapsed": false,
    "pycharm": {
     "name": "#%%\n"
    }
   }
  },
  {
   "cell_type": "code",
   "execution_count": 24,
   "outputs": [],
   "source": [
    "def get_Q(adj_mat, sc_, k_):\n",
    "    m = 0\n",
    "    adj_matrix_ = adj_mat - np.eye(len(adj_mat))\n",
    "    for i in range(len(adj_matrix_)):\n",
    "        for j in range(len(adj_matrix_[0])):\n",
    "            m += adj_matrix_[i][j]\n",
    "    m/=2\n",
    "    c_list = sc_.labels_.tolist()\n",
    "    c_dict = {}\n",
    "    for i in range(len(c_list)):\n",
    "        c_dict.setdefault(c_list[i],[])\n",
    "        c_dict[c_list[i]].append(i)\n",
    "    Q = 0\n",
    "    for i in c_dict.keys():\n",
    "        n,t = get_q(adj_matrix_, i, c_dict)\n",
    "        Q += n/(2*m) - (t/(2*m))**2\n",
    "    print(Q)"
   ],
   "metadata": {
    "collapsed": false,
    "pycharm": {
     "name": "#%%\n"
    }
   }
  },
  {
   "cell_type": "code",
   "execution_count": 25,
   "outputs": [
    {
     "name": "stdout",
     "output_type": "stream",
     "text": [
      "[[1.   0.76 0.15 0.17 0.1  0.   0.   0.   0.15 0.05 0.05]\n",
      " [0.76 1.   0.15 0.62 0.1  0.1  0.   0.   0.15 0.05 0.05]\n",
      " [0.15 0.15 1.   0.74 0.9  0.49 0.   0.   0.15 0.05 0.05]\n",
      " [0.17 0.62 0.74 1.   0.   0.   0.   0.   0.15 0.15 0.15]\n",
      " [0.1  0.1  0.9  0.   1.   0.79 0.56 0.05 0.1  0.   0.  ]\n",
      " [0.   0.1  0.49 0.   0.79 1.   0.56 0.05 0.1  0.   0.  ]\n",
      " [0.   0.   0.   0.   0.56 0.56 1.   0.54 0.49 0.49 0.  ]\n",
      " [0.   0.   0.   0.   0.05 0.05 0.54 1.   0.   0.   0.  ]\n",
      " [0.15 0.15 0.15 0.15 0.1  0.1  0.49 0.   1.   0.76 0.6 ]\n",
      " [0.05 0.05 0.05 0.15 0.   0.   0.49 0.   0.76 1.   0.76]\n",
      " [0.05 0.05 0.05 0.15 0.   0.   0.   0.   0.6  0.76 1.  ]]\n",
      "[{0, 1, 2, 3, 4, 5, 6, 7, 8, 9, 10}]\t0.0\n",
      "[{0, 1, 2, 3, 8, 9, 10}, {4, 5, 6, 7}]\t0.20271693533246754\n",
      "[{8, 9, 10}, {0, 1, 2, 3}, {4, 5, 6, 7}]\t0.30488887884838145\n",
      "[{6, 7}, {0, 1, 3}, {8, 9, 10}, {2, 4, 5}]\t0.2953265939024173\n",
      "[{4, 5, 6}, {7}, {8, 9, 10}, {2, 3}, {0, 1}]\t0.23236352418693315\n",
      "[{4, 5}, {9, 10}, {0, 1}, {7}, {2, 3}, {8, 6}]\t0.11867827799412474\n",
      "[{0, 1}, {9, 10}, {7}, {3}, {2, 4}, {5}, {8, 6}]\t0.07776727852306912\n",
      "[{10}, {9, 6}, {7}, {0, 1}, {2, 4}, {5}, {8}, {3}]\t0.029120760558048017\n",
      "[{1, 3}, {7}, {9, 6}, {10}, {2}, {4}, {5}, {8}, {0}]\t-0.039772094331259285\n"
     ]
    }
   ],
   "source": [
    "print(adj_matrix)\n",
    "for o in range(1, 10):\n",
    "    sc = SpectralClustering(o, affinity='precomputed', n_init=10)\n",
    "    sc.fit(adj_matrix)\n",
    "    community = sc.labels_.tolist()\n",
    "    com_dict = {c: [i for i, val in enumerate(community) if val == c] for c in set(community)}\n",
    "    comm = [set(val) for val in com_dict.values()]\n",
    "    print(comm, end=\"\\t\")\n",
    "    get_Q(adj_matrix, sc, o)"
   ],
   "metadata": {
    "collapsed": false,
    "pycharm": {
     "name": "#%%\n"
    }
   }
  },
  {
   "cell_type": "code",
   "execution_count": 26,
   "outputs": [
    {
     "name": "stdout",
     "output_type": "stream",
     "text": [
      "[[0.   0.76 0.15 0.17 0.1  0.   0.   0.   0.15 0.05 0.05]\n",
      " [0.76 0.   0.15 0.62 0.1  0.1  0.   0.   0.15 0.05 0.05]\n",
      " [0.15 0.15 0.   0.74 0.9  0.49 0.   0.   0.15 0.05 0.05]\n",
      " [0.17 0.62 0.74 0.   0.   0.   0.   0.   0.15 0.15 0.15]\n",
      " [0.1  0.1  0.9  0.   0.   0.79 0.56 0.05 0.1  0.   0.  ]\n",
      " [0.   0.1  0.49 0.   0.79 0.   0.56 0.05 0.1  0.   0.  ]\n",
      " [0.   0.   0.   0.   0.56 0.56 0.   0.54 0.49 0.49 0.  ]\n",
      " [0.   0.   0.   0.   0.05 0.05 0.54 0.   0.   0.   0.  ]\n",
      " [0.15 0.15 0.15 0.15 0.1  0.1  0.49 0.   0.   0.76 0.6 ]\n",
      " [0.05 0.05 0.05 0.15 0.   0.   0.49 0.   0.76 0.   0.76]\n",
      " [0.05 0.05 0.05 0.15 0.   0.   0.   0.   0.6  0.76 0.  ]]\n"
     ]
    }
   ],
   "source": [
    "adj_matrix = adj_matrix - np.eye(len(adj_matrix))\n",
    "print(adj_matrix)"
   ],
   "metadata": {
    "collapsed": false,
    "pycharm": {
     "name": "#%%\n"
    }
   }
  },
  {
   "cell_type": "code",
   "execution_count": 27,
   "outputs": [
    {
     "name": "stdout",
     "output_type": "stream",
     "text": [
      "[{0, 1, 3}, {2, 4, 5, 6, 7}, {8, 9, 10}]\n"
     ]
    }
   ],
   "source": [
    "c, _ = louvain_method(adj_matrix)\n",
    "print(c)"
   ],
   "metadata": {
    "collapsed": false,
    "pycharm": {
     "name": "#%%\n"
    }
   }
  },
  {
   "cell_type": "code",
   "execution_count": 28,
   "outputs": [
    {
     "name": "stdout",
     "output_type": "stream",
     "text": [
      "[{0, 9, 10, 3}, {1, 2, 4, 5, 6, 7, 8}]\n"
     ]
    }
   ],
   "source": [
    "c, _ = girvan_newman(adj_matrix)\n",
    "print(c)"
   ],
   "metadata": {
    "collapsed": false,
    "pycharm": {
     "name": "#%%\n"
    }
   }
  }
 ],
 "metadata": {
  "kernelspec": {
   "display_name": "Python 3",
   "language": "python",
   "name": "python3"
  },
  "language_info": {
   "codemirror_mode": {
    "name": "ipython",
    "version": 2
   },
   "file_extension": ".py",
   "mimetype": "text/x-python",
   "name": "python",
   "nbconvert_exporter": "python",
   "pygments_lexer": "ipython2",
   "version": "2.7.6"
  }
 },
 "nbformat": 4,
 "nbformat_minor": 0
}