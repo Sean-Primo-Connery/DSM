{
 "cells": [
  {
   "cell_type": "code",
   "execution_count": 1,
   "metadata": {
    "collapsed": true,
    "pycharm": {
     "name": "#%%\n"
    }
   },
   "outputs": [],
   "source": [
    "import pandas as pd\n",
    "import numpy as np\n",
    "import pywebio.input as pi\n",
    "import pywebio.output as po\n",
    "from pywebio.utils import pyinstaller_datas\n",
    "from communities.algorithms import louvain_method, girvan_newman, hierarchical_clustering, spectral_clustering"
   ]
  },
  {
   "cell_type": "markdown",
   "source": [
    "## 规范化拉普拉斯变换\n",
    "相似度矩阵"
   ],
   "metadata": {
    "collapsed": false,
    "pycharm": {
     "name": "#%% md\n"
    }
   }
  },
  {
   "cell_type": "code",
   "execution_count": 2,
   "outputs": [],
   "source": [
    "def lap_mat(sim_mat):\n",
    "    d = np.sum(sim_mat, axis=1).tolist()\n",
    "    d = [i**(-0.5) for i in d]\n",
    "    d_ = np.diag(d)\n",
    "    an = len(sim_mat)\n",
    "    mat_lap = np.eye(an) - np.matmul(np.matmul(d_,sim_mat), d_)\n",
    "    return mat_lap"
   ],
   "metadata": {
    "collapsed": false,
    "pycharm": {
     "name": "#%%\n"
    }
   }
  },
  {
   "cell_type": "markdown",
   "source": [
    "## 本证间隙法求最优聚类数\n",
    "拉普拉斯矩阵"
   ],
   "metadata": {
    "collapsed": false,
    "pycharm": {
     "name": "#%% md\n"
    }
   }
  },
  {
   "cell_type": "code",
   "execution_count": 3,
   "outputs": [],
   "source": [
    "def main_gap(lap_matrix):\n",
    "    mat, _ = np.linalg.eig(lap_matrix)\n",
    "    mat = sorted(mat, reverse=True)\n",
    "    g = [mat[i] - mat[i+1] for i in range(len(mat)-1)]\n",
    "    print(g)\n",
    "    for i in range(1, len(g)-1):\n",
    "        if g[i]>g[i-1] and g[i]>g[i+1]:\n",
    "            return i+1"
   ],
   "metadata": {
    "collapsed": false,
    "pycharm": {
     "name": "#%%\n"
    }
   }
  },
  {
   "cell_type": "markdown",
   "source": [
    "## 模块度计算\n",
    "邻接矩阵"
   ],
   "metadata": {
    "collapsed": false,
    "pycharm": {
     "name": "#%% md\n"
    }
   }
  },
  {
   "cell_type": "code",
   "execution_count": 4,
   "outputs": [],
   "source": [
    "def get_q(adj_m, c_, c_d):\n",
    "    in_ = 0\n",
    "    tot_ = 0\n",
    "    in_list = []\n",
    "    tot_list = []\n",
    "    for i in c_d.keys():\n",
    "        if i == c_:\n",
    "            in_list.extend(c_d[i])\n",
    "        tot_list.extend(c_d[i])\n",
    "    for i in in_list:\n",
    "        for z in in_list:\n",
    "                in_ += adj_m[i][z]\n",
    "    for i in in_list:\n",
    "        for z in tot_list:\n",
    "            tot_ += adj_m[i][z]\n",
    "    return in_, tot_"
   ],
   "metadata": {
    "collapsed": false,
    "pycharm": {
     "name": "#%%\n"
    }
   }
  },
  {
   "cell_type": "code",
   "execution_count": 5,
   "outputs": [],
   "source": [
    "def get_Q(adj_mat, c_set):\n",
    "    m = 0\n",
    "    adj_matrix_ = adj_mat - np.eye(len(adj_mat))\n",
    "    for i in range(len(adj_matrix_)):\n",
    "        for j in range(len(adj_matrix_[0])):\n",
    "            m += adj_matrix_[i][j]\n",
    "    m/=2\n",
    "    len_ = 0\n",
    "    for c in c_set:\n",
    "        len_ += len(c)\n",
    "\n",
    "    c_list = [0 for _ in range(len_)]\n",
    "    for s in range(len(c_set)):\n",
    "        for i in list(c_set[s]):\n",
    "            c_list[i] = s\n",
    "    c_dict = {}\n",
    "    for i in range(len(c_list)):\n",
    "        c_dict.setdefault(c_list[i],[])\n",
    "        c_dict[c_list[i]].append(i)\n",
    "    Q = 0\n",
    "    for i in c_dict.keys():\n",
    "        n,t = get_q(adj_matrix_, i, c_dict)\n",
    "        Q += n/(2*m) - (t/(2*m))**2\n",
    "    return Q"
   ],
   "metadata": {
    "collapsed": false,
    "pycharm": {
     "name": "#%%\n"
    }
   }
  },
  {
   "cell_type": "markdown",
   "source": [
    "## louvain_method\n",
    "邻接矩阵"
   ],
   "metadata": {
    "collapsed": false,
    "pycharm": {
     "name": "#%% md\n"
    }
   }
  },
  {
   "cell_type": "code",
   "execution_count": 6,
   "outputs": [],
   "source": [
    "def louvain_divide(adj_mat):\n",
    "    community, _ = louvain_method(adj_mat)\n",
    "    Q = get_Q(adj_mat, community)\n",
    "    return community, Q"
   ],
   "metadata": {
    "collapsed": false,
    "pycharm": {
     "name": "#%%\n"
    }
   }
  },
  {
   "cell_type": "markdown",
   "source": [
    "## girvan_newman\n",
    "邻接矩阵"
   ],
   "metadata": {
    "collapsed": false,
    "pycharm": {
     "name": "#%% md\n"
    }
   }
  },
  {
   "cell_type": "code",
   "execution_count": 7,
   "outputs": [],
   "source": [
    "def girvan_newman_divide(adj_mat):\n",
    "    community, _ = girvan_newman(adj_mat)\n",
    "    Q = get_Q(adj_mat, community)\n",
    "    return community, Q"
   ],
   "metadata": {
    "collapsed": false,
    "pycharm": {
     "name": "#%%\n"
    }
   }
  },
  {
   "cell_type": "markdown",
   "source": [
    "## 分层聚类\n",
    "邻接矩阵"
   ],
   "metadata": {
    "collapsed": false,
    "pycharm": {
     "name": "#%% md\n"
    }
   }
  },
  {
   "cell_type": "code",
   "execution_count": 8,
   "outputs": [],
   "source": [
    "def hierarchical_clustering_divide(adj_mat):\n",
    "    community = hierarchical_clustering(adj_mat, linkage=\"complete\")\n",
    "    Q = get_Q(adj_mat, community)\n",
    "    return community, Q"
   ],
   "metadata": {
    "collapsed": false,
    "pycharm": {
     "name": "#%%\n"
    }
   }
  },
  {
   "cell_type": "markdown",
   "source": [
    "## 谱聚类\n",
    "邻接矩阵"
   ],
   "metadata": {
    "collapsed": false,
    "pycharm": {
     "name": "#%% md\n"
    }
   }
  },
  {
   "cell_type": "code",
   "execution_count": 9,
   "outputs": [],
   "source": [
    "def spectral_clustering_divide(adj_mat):\n",
    "    sim_matrix = adj_mat + np.eye(len(similar_matrix))\n",
    "    lap_matrix = lap_mat(sim_matrix)\n",
    "    k = main_gap(lap_matrix)\n",
    "    community = spectral_clustering(adj_mat, k=k)\n",
    "    Q = get_Q(adj_mat, community)\n",
    "    return community, Q"
   ],
   "metadata": {
    "collapsed": false,
    "pycharm": {
     "name": "#%%\n"
    }
   }
  },
  {
   "cell_type": "markdown",
   "source": [
    "## 最大Q"
   ],
   "metadata": {
    "collapsed": false,
    "pycharm": {
     "name": "#%% md\n"
    }
   }
  },
  {
   "cell_type": "code",
   "execution_count": 10,
   "outputs": [],
   "source": [
    "def max_q(adj_mat):\n",
    "    method_list = [louvain_divide, girvan_newman_divide, hierarchical_clustering_divide, spectral_clustering_divide]\n",
    "    com_dict = {i:list(method_list[i](adj_mat)) for i in range(len(method_list))}\n",
    "    max_q_com = com_dict[0][0]\n",
    "    max_q_ = com_dict[0][1]\n",
    "    for i in com_dict.keys():\n",
    "        if com_dict[i][1] > max_q_:\n",
    "            max_q_ = com_dict[i][1]\n",
    "            max_q_com = com_dict[i][0]\n",
    "    return max_q_com, max_q_\n"
   ],
   "metadata": {
    "collapsed": false,
    "pycharm": {
     "name": "#%%\n"
    }
   }
  },
  {
   "cell_type": "markdown",
   "source": [
    "## 方法字典"
   ],
   "metadata": {
    "collapsed": false,
    "pycharm": {
     "name": "#%% md\n"
    }
   }
  },
  {
   "cell_type": "code",
   "execution_count": 11,
   "outputs": [],
   "source": [
    "method_dict = {\n",
    "    \"louvain\": louvain_divide,\n",
    "    \"girvan_newman\": girvan_newman_divide,\n",
    "    \"分层聚类\": hierarchical_clustering_divide,\n",
    "    \"谱聚类\": spectral_clustering_divide,\n",
    "    \"最优\": max_q\n",
    "}"
   ],
   "metadata": {
    "collapsed": false,
    "pycharm": {
     "name": "#%%\n"
    }
   }
  },
  {
   "cell_type": "markdown",
   "source": [
    "## 输入询问"
   ],
   "metadata": {
    "collapsed": false,
    "pycharm": {
     "name": "#%% md\n"
    }
   }
  },
  {
   "cell_type": "code",
   "execution_count": 12,
   "outputs": [],
   "source": [
    "def ask_info():\n",
    "    data = pi.input_group(\n",
    "        \"模块划分\",\n",
    "        [\n",
    "            pi.file_upload(\"相似度矩阵\", name=\"file\"),\n",
    "            pi.select(\"模块划分方法\", name=\"method\", options=list(method_dict.keys()), value=\"最优\")\n",
    "        ],\n",
    "    )\n",
    "    return data[\"file\"], data[\"method\"]"
   ],
   "metadata": {
    "collapsed": false,
    "pycharm": {
     "name": "#%%\n"
    }
   }
  },
  {
   "cell_type": "markdown",
   "source": [
    "## 输出结果"
   ],
   "metadata": {
    "collapsed": false,
    "pycharm": {
     "name": "#%% md\n"
    }
   }
  },
  {
   "cell_type": "code",
   "execution_count": 13,
   "outputs": [],
   "source": [
    "def put_com(community):\n",
    "    po.put_text(str(community))"
   ],
   "metadata": {
    "collapsed": false,
    "pycharm": {
     "name": "#%%\n"
    }
   }
  },
  {
   "cell_type": "markdown",
   "source": [
    "## 主函数"
   ],
   "metadata": {
    "collapsed": false,
    "pycharm": {
     "name": "#%% md\n"
    }
   }
  },
  {
   "cell_type": "code",
   "execution_count": 14,
   "outputs": [
    {
     "name": "stdout",
     "output_type": "stream",
     "text": [
      "[0.37689080145218623, 0.4026394431916033, 0.26550302116873, 0.2344969788312701]\n"
     ]
    }
   ],
   "source": [
    "file,method = ask_info()\n",
    "dataframe = pd.read_excel(file[\"content\"], header=None)\n",
    "similar_matrix = dataframe.values\n",
    "adj_matrix = similar_matrix - np.eye(len(similar_matrix))\n",
    "com, _ = method_dict[method](adj_matrix)\n",
    "put_com(com)"
   ],
   "metadata": {
    "collapsed": false,
    "pycharm": {
     "name": "#%%\n"
    }
   }
  },
  {
   "cell_type": "markdown",
   "source": [],
   "metadata": {
    "collapsed": false,
    "pycharm": {
     "name": "#%% md\n"
    }
   }
  }
 ],
 "metadata": {
  "kernelspec": {
   "display_name": "Python 3",
   "language": "python",
   "name": "python3"
  },
  "language_info": {
   "codemirror_mode": {
    "name": "ipython",
    "version": 2
   },
   "file_extension": ".py",
   "mimetype": "text/x-python",
   "name": "python",
   "nbconvert_exporter": "python",
   "pygments_lexer": "ipython2",
   "version": "2.7.6"
  }
 },
 "nbformat": 4,
 "nbformat_minor": 0
}